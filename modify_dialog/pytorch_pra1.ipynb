{
 "cells": [
  {
   "cell_type": "code",
   "execution_count": 1,
   "metadata": {},
   "outputs": [],
   "source": [
    "import torch\n",
    "import torch.nn as nn\n",
    "from torch import optim\n",
    "import torch.nn.functional as F\n",
    "\n",
    "device = torch.device(\"cuda:1\" if torch.cuda.is_available() else \"cpu\")\n",
    "torch.backends.cudnn.enabled = False"
   ]
  },
  {
   "cell_type": "code",
   "execution_count": 34,
   "metadata": {},
   "outputs": [],
   "source": [
    "class Net(nn.Module):\n",
    "    def __init__(self, hidden_size, output_size):\n",
    "        super(Net, self).__init__()\n",
    "        self.li1 = nn.Linear(hidden_size, hidden_size) \n",
    "        self.li2 = nn.Linear(hidden_size, output_size)\n",
    "        \n",
    "    def forward(self, x):\n",
    "        h = self.li1(x)\n",
    "        h = F.tanh(h)\n",
    "        y = self.li2(h)\n",
    "        y = F.log_softmax(y, dim=1)\n",
    "        return y"
   ]
  },
  {
   "cell_type": "code",
   "execution_count": 21,
   "metadata": {},
   "outputs": [],
   "source": [
    "X = [\n",
    "    [1,1],\n",
    "    [1,-1],\n",
    "    [-1,1],\n",
    "    [-1,-1]\n",
    "]\n",
    "Y = [\n",
    "    0,\n",
    "    1,\n",
    "    1,\n",
    "    0\n",
    "]\n"
   ]
  },
  {
   "cell_type": "code",
   "execution_count": 38,
   "metadata": {},
   "outputs": [],
   "source": [
    "net = Net(512, 5).to(device)"
   ]
  },
  {
   "cell_type": "code",
   "execution_count": 39,
   "metadata": {},
   "outputs": [],
   "source": [
    "optimizer = optim.Adam(net.parameters())"
   ]
  },
  {
   "cell_type": "code",
   "execution_count": 40,
   "metadata": {},
   "outputs": [],
   "source": [
    "X = torch.tensor(X, dtype=torch.float, device=device)\n",
    "Y = torch.tensor(Y, dtype=torch.long, device=device)"
   ]
  },
  {
   "cell_type": "code",
   "execution_count": 41,
   "metadata": {},
   "outputs": [
    {
     "name": "stdout",
     "output_type": "stream",
     "text": [
      "1 0.7025309801101685\n",
      "2 0.7004345655441284\n",
      "3 0.6983879804611206\n",
      "4 0.6963921189308167\n",
      "5 0.69444739818573\n",
      "6 0.6925532817840576\n",
      "7 0.6907083988189697\n",
      "8 0.6889098882675171\n",
      "9 0.6871535181999207\n",
      "10 0.6854339838027954\n",
      "11 0.6837453842163086\n",
      "12 0.6820817589759827\n",
      "13 0.6804378032684326\n",
      "14 0.6788088083267212\n",
      "15 0.677190899848938\n",
      "16 0.6755806803703308\n",
      "17 0.6739757061004639\n",
      "18 0.67237389087677\n",
      "19 0.6707733273506165\n",
      "20 0.6691728234291077\n",
      "21 0.6675711274147034\n",
      "22 0.6659672856330872\n",
      "23 0.6643605828285217\n",
      "24 0.6627501845359802\n",
      "25 0.6611354947090149\n",
      "26 0.659515917301178\n",
      "27 0.6578909158706665\n",
      "28 0.6562598943710327\n",
      "29 0.6546223163604736\n",
      "30 0.652977705001831\n",
      "31 0.6513256430625916\n",
      "32 0.6496655941009521\n",
      "33 0.6479970812797546\n",
      "34 0.6463196277618408\n",
      "35 0.6446327567100525\n",
      "36 0.6429359912872314\n",
      "37 0.6412287354469299\n",
      "38 0.6395105719566345\n",
      "39 0.637781023979187\n",
      "40 0.6360393762588501\n",
      "41 0.6342854499816895\n",
      "42 0.632518470287323\n",
      "43 0.6307381391525269\n",
      "44 0.6289439797401428\n",
      "45 0.6271355152130127\n",
      "46 0.6253122687339783\n",
      "47 0.6234739422798157\n",
      "48 0.6216201782226562\n",
      "49 0.6197504997253418\n",
      "50 0.6178645491600037\n"
     ]
    },
    {
     "name": "stderr",
     "output_type": "stream",
     "text": [
      "/home/is/sara-as/.pyenv/versions/miniconda3-3.19.0/lib/python3.5/site-packages/torch/nn/functional.py:995: UserWarning: nn.functional.tanh is deprecated. Use torch.tanh instead.\n",
      "  warnings.warn(\"nn.functional.tanh is deprecated. Use torch.tanh instead.\")\n"
     ]
    }
   ],
   "source": [
    "loss_func = nn.NLLLoss()\n",
    "for epoch in range(1, 51):\n",
    "    optimizer.zero_grad()\n",
    "    \n",
    "    #encode\n",
    "    \n",
    "    output = net(X)\n",
    "    loss = loss_func(output, Y)\n",
    "    \n",
    "    #decode\n",
    "    \n",
    "    print(epoch, loss.item())\n",
    "    loss.backward()\n",
    "    optimizer.step()"
   ]
  },
  {
   "cell_type": "code",
   "execution_count": null,
   "metadata": {},
   "outputs": [],
   "source": []
  }
 ],
 "metadata": {
  "kernelspec": {
   "display_name": "Python 3",
   "language": "python",
   "name": "python3"
  },
  "language_info": {
   "codemirror_mode": {
    "name": "ipython",
    "version": 3
   },
   "file_extension": ".py",
   "mimetype": "text/x-python",
   "name": "python",
   "nbconvert_exporter": "python",
   "pygments_lexer": "ipython3",
   "version": "3.5.5"
  }
 },
 "nbformat": 4,
 "nbformat_minor": 2
}
