{
 "cells": [
  {
   "cell_type": "code",
   "execution_count": null,
   "metadata": {},
   "outputs": [],
   "source": [
    "import MeCab\n",
    "m = MeCab.Tagger(\"-Owakati\")\n",
    "corpus = []\n",
    "for i in range(200):\n",
    "    with open(\"cleaning/%d.txt\" % (i)) as f:\n",
    "        human = []\n",
    "        robot = []\n",
    "        for line in f.readlines():\n",
    "            user, uttr = line.strip().split(\"\\t\")\n",
    "            uttr = m.parse(uttr).strip()\n",
    "            if user[0] == 'A':\n",
    "                human.append(uttr)\n",
    "            else:\n",
    "                robot.append(uttr)\n",
    "        for pair in zip(robot, human):\n",
    "            corpus.append(pair)"
   ]
  },
  {
   "cell_type": "code",
   "execution_count": null,
   "metadata": {},
   "outputs": [],
   "source": [
    "from collections import Counter\n",
    "corpus = []\n",
    "human_emotion = []\n",
    "robot_emotion = []\n",
    "utter_count = 0\n",
    "for i in range(200):\n",
    "    with open(\"cleaning/%d.txt.label\" % (i)) as f:\n",
    "        human = []\n",
    "        robot = []\n",
    "        for line in f.readlines()[1:]:\n",
    "            data = line.strip().split(\",\")\n",
    "            user = data[0]\n",
    "            uttr = m.parse(data[1]).strip()\n",
    "            emotion = data[2].split(\"-\")\n",
    "            if user[0] == 'A':\n",
    "                human.append((uttr, emotion))\n",
    "            else:\n",
    "                robot.append((uttr, emotion))\n",
    "        for r, h in zip(robot, human):                       \n",
    "            hu_emo_c = Counter(h[1][:3])\n",
    "            ro_emo_c = Counter(r[1][:3])\n",
    "            best_hu = hu_emo_c.most_common()[0]\n",
    "            best_ro = ro_emo_c.most_common()[0]\n",
    "            if best_hu[1] >= 2 and best_ro[1] >= 2:         \n",
    "                corpus.append((h[0], r[0]))\n",
    "                human_emotion.append(best_hu[0])\n",
    "                robot_emotion.append(best_ro[0])\n",
    "                utter_count += 1\n",
    "print(utter_count)"
   ]
  },
  {
   "cell_type": "code",
   "execution_count": null,
   "metadata": {},
   "outputs": [],
   "source": [
    "from collections import Counter\n",
    "corpus = []\n",
    "human_emotion = []\n",
    "robot_emotion = []\n",
    "for i in range(200):\n",
    "    with open(\"cleaning/%d.txt.label\" % (i)) as f:\n",
    "        human = []\n",
    "        robot = []\n",
    "        for line in f.readlines()[1:]:\n",
    "            data = line.strip().split(\",\")\n",
    "            user = data[0]\n",
    "            uttr = m.parse(data[1]).strip()\n",
    "            emotion = data[2].split(\"-\")\n",
    "            if user[0] == 'A':\n",
    "                human.append((uttr, emotion))\n",
    "            else:\n",
    "                robot.append((uttr, emotion))\n",
    "        for r, h in zip(robot, human):                       \n",
    "            hu_emo_c = Counter(h[1][:2])\n",
    "            ro_emo_c = Counter(r[1][:2])\n",
    "            best = c.most_common()[0]\n",
    "            if best[1] >= 2:           \n",
    "                corpus.append((h[0], r[0]))\n",
    "                emotions.append(best[0])\n",
    "        #print(human_emotion)"
   ]
  },
  {
   "cell_type": "code",
   "execution_count": null,
   "metadata": {},
   "outputs": [],
   "source": [
    "#corpus"
   ]
  },
  {
   "cell_type": "code",
   "execution_count": null,
   "metadata": {},
   "outputs": [],
   "source": [
    "#list(zip(corpus, human_emotion, robot_emotion))"
   ]
  },
  {
   "cell_type": "code",
   "execution_count": null,
   "metadata": {},
   "outputs": [],
   "source": [
    "with open(\"cleaning/robot.txt\", mode='w', encoding=\"utf-8\") as f:\n",
    "    for uttr in corpus:\n",
    "        f.write(uttr[0])\n",
    "        f.write('\\n')"
   ]
  },
  {
   "cell_type": "code",
   "execution_count": null,
   "metadata": {},
   "outputs": [],
   "source": [
    "with open(\"cleaning/human.txt\", mode='w', encoding=\"utf-8\") as f:\n",
    "    for uttr in corpus:\n",
    "        f.write(uttr[1])\n",
    "        f.write('\\n')"
   ]
  },
  {
   "cell_type": "code",
   "execution_count": null,
   "metadata": {},
   "outputs": [],
   "source": [
    "with open(\"cleaning/hu-ro.txt\", mode='w', encoding=\"utf-8\") as f:\n",
    "    for uttr in corpus:\n",
    "        f.write(uttr[0]+\"\\t\"+uttr[1]+\"\\n\")"
   ]
  },
  {
   "cell_type": "code",
   "execution_count": null,
   "metadata": {},
   "outputs": [],
   "source": [
    "with open(\"cleaning/human_emotions.txt\", mode='w', encoding=\"utf-8\") as f:\n",
    "    for emo in human_emotion:\n",
    "        f.write(emo+\"\\n\")"
   ]
  },
  {
   "cell_type": "code",
   "execution_count": null,
   "metadata": {},
   "outputs": [],
   "source": [
    "with open(\"cleaning/robot_emotions.txt\", mode='w', encoding=\"utf-8\") as f:\n",
    "    for emo in robot_emotion:\n",
    "        f.write(emo+\"\\n\")"
   ]
  },
  {
   "cell_type": "code",
   "execution_count": null,
   "metadata": {},
   "outputs": [],
   "source": [
    "emotion"
   ]
  },
  {
   "cell_type": "code",
   "execution_count": null,
   "metadata": {},
   "outputs": [],
   "source": []
  }
 ],
 "metadata": {
  "kernelspec": {
   "display_name": "Python 3",
   "language": "python",
   "name": "python3"
  },
  "language_info": {
   "codemirror_mode": {
    "name": "ipython",
    "version": 3
   },
   "file_extension": ".py",
   "mimetype": "text/x-python",
   "name": "python",
   "nbconvert_exporter": "python",
   "pygments_lexer": "ipython3",
   "version": "3.5.5"
  }
 },
 "nbformat": 4,
 "nbformat_minor": 2
}
